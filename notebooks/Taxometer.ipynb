{
 "cells": [
  {
   "cell_type": "code",
   "execution_count": 12,
   "id": "847bde6e-b60b-4e45-ac83-baa2ebc1845a",
   "metadata": {},
   "outputs": [],
   "source": [
    "import numpy as np\n",
    "from copy import deepcopy\n",
    "import itertools\n",
    "import matplotlib\n",
    "from numpy import radians as rad\n",
    "from matplotlib.animation import FuncAnimation\n",
    "from scipy.ndimage import convolve,convolve1d\n",
    "import cmasher\n",
    "import seaborn as sns\n",
    "from collections import defaultdict\n",
    "from manim import *\n",
    "import networkx as nx\n",
    "from scipy.interpolate import interp1d\n",
    "import itertools\n",
    "import networkx as nx\n",
    "import matplotlib.pyplot as plt\n",
    "import random\n",
    "from networkx.drawing.nx_pydot import graphviz_layout\n",
    "from scipy.special import softmax"
   ]
  },
  {
   "cell_type": "markdown",
   "id": "4a464d8f-8e74-429b-ac02-6ab888d43fcf",
   "metadata": {},
   "source": [
    "# Hierarchical loss"
   ]
  },
  {
   "cell_type": "code",
   "execution_count": 128,
   "id": "bd59a70d-e137-4834-b9f9-d52cf3fe5881",
   "metadata": {},
   "outputs": [],
   "source": [
    "def create_exact_graph():\n",
    "    G = nx.DiGraph()\n",
    "    G.add_edges_from([\n",
    "        (0, 2), (0, 1), \n",
    "        (2, 6), (2, 5), (1, 666),\n",
    "        (6, 9), (5, 7), (5, 8), (666, 3), (666, 4),\n",
    "        \n",
    "    ])\n",
    "    return G"
   ]
  },
  {
   "cell_type": "code",
   "execution_count": 129,
   "id": "59121728-cdbd-4f9b-a2e7-e734cedbaa32",
   "metadata": {},
   "outputs": [],
   "source": [
    "G = create_exact_graph()"
   ]
  },
  {
   "cell_type": "code",
   "execution_count": 130,
   "id": "5c27167c-82b6-4a99-bd01-123eaf7338d3",
   "metadata": {},
   "outputs": [],
   "source": [
    "def create_random_tree_with_fixed_depth(number_of_children, branch_length=7):\n",
    "    G = nx.DiGraph()\n",
    "\n",
    "    root = 0\n",
    "    G.add_node(root, value=round(random.uniform(0, 1), 2))\n",
    "\n",
    "    current_node = 1\n",
    "\n",
    "    parent_nodes = [root]\n",
    "    \n",
    "    for level in range(branch_length):\n",
    "        new_parent_nodes = []\n",
    "        \n",
    "        for parent in parent_nodes:\n",
    "\n",
    "            if level == 0:\n",
    "                num_children = 2\n",
    "            else:\n",
    "                num_children = random.randint(1, number_of_children)\n",
    "\n",
    "            for _ in range(num_children):\n",
    "                G.add_node(current_node, value=round(random.uniform(0, 1), 2))\n",
    "                G.add_edge(parent, current_node)\n",
    "                \n",
    "                new_parent_nodes.append(current_node)\n",
    "                \n",
    "                current_node += 1\n",
    "        \n",
    "        parent_nodes = new_parent_nodes\n",
    "\n",
    "    return G\n",
    "\n",
    "def plot_tree(G):\n",
    "    \"\"\"\n",
    "    Plots the tree graph using networkx and matplotlib.\n",
    "\n",
    "    Parameters:\n",
    "    G (networkx.Graph): The tree graph to plot.\n",
    "    \"\"\"\n",
    "    # Generate a layout for visualizing the tree (hierarchical)\n",
    "    pos = graphviz_layout(G, prog=\"dot\")\n",
    "\n",
    "    # Plot the tree\n",
    "    plt.figure(figsize=(10, 8))\n",
    "    nx.draw(G, pos, with_labels=False, node_size=10, node_color='lightgreen', edge_color='gray')\n",
    "\n",
    "    plt.title(f'Tree with {G.number_of_nodes()} Nodes')\n",
    "    plt.show()"
   ]
  },
  {
   "cell_type": "code",
   "execution_count": 301,
   "id": "712160bb-aea7-4c9b-8041-d1797b3c7431",
   "metadata": {},
   "outputs": [],
   "source": [
    "def assign_parents(likelihoods, children):\n",
    "    par_dict = defaultdict(int)\n",
    "    for n, l in zip(children, likelihoods):\n",
    "        parent = list(G.predecessors(n))[0]\n",
    "        par_dict[parent] += l\n",
    "    return par_dict\n",
    "\n",
    "\n",
    "class TaxonomicTree(Scene):\n",
    "    \n",
    "    def construct(self):\n",
    "        LAYOUT_CONFIG = {\"vertex_spacing\": (1, 1)}\n",
    "        VERTEX_CONF = {\"radius\": 0.25, \"color\": BLACK, \"fill_opacity\": 1, \"stroke_opacity\": 1, \"stroke_color\": WHITE, \"stroke_width\": 2}\n",
    "        \n",
    "        graph = Graph(\n",
    "            list(G.nodes), \n",
    "            list(G.edges), \n",
    "            layout=\"tree\", \n",
    "            root_vertex=0, \n",
    "            layout_config=LAYOUT_CONFIG,\n",
    "            vertex_config=VERTEX_CONF,\n",
    "        )\n",
    "        leaves = [node for node in G.nodes() if G.degree(node) == 1]\n",
    "        N_leaves = len(leaves)\n",
    "        \n",
    "        GT = leaves[2]\n",
    "        ground_truth = [GT]\n",
    "        gt = GT\n",
    "        for _ in range(4):\n",
    "            for p in G.predecessors(gt):\n",
    "                ground_truth.append(p)\n",
    "                gt = p\n",
    "\n",
    "        leaves_vertices = VGroup(*[graph[l].copy() for l in leaves])\n",
    "        leaves_vertices_gt = VGroup(*[graph[l].copy() for l in leaves])\n",
    "\n",
    "        species = ['S. elodea', 'S. melonis', 'E. coli', 'P. aeruginosa', 'M. albus']\n",
    "\n",
    "        keep = [\n",
    "            Text(\"Family\", font_size=30, weight=BOLD).move_to(LEFT*2 + UP*3), \n",
    "            Text(\"Genus\", font_size=30, weight=BOLD).move_to(LEFT*2 + UP*2), \n",
    "            Text(\"Species\", font_size=30, weight=BOLD).move_to(LEFT*2 + UP*1),\n",
    "        ]\n",
    "\n",
    "        leaves_vertices.arrange(buff=1.0).shift(DOWN)\n",
    "        self.play(*[FadeIn(leaves_vertices)] + \\\n",
    "                  [Write(Text(t, font_size=20).next_to(leaves_vertices[i], DOWN)) for i, t in enumerate(species)] + \\\n",
    "                 [FadeIn(t) for t in keep])\n",
    "        self.wait(1)\n",
    "\n",
    "        ann1 = [\"Sphingomonadaceae\", \"Sphingomonas\", \"S. melonis\"]\n",
    "        new_text = [\n",
    "            Text(a, font_size=30).move_to(RIGHT*2 + UP*(3-i)) for i, a in enumerate(ann1)\n",
    "        ]\n",
    "        self.play(*[Write(t) for t in new_text] + [leaves_vertices[1].animate.set_fill(WHITE)], )\n",
    "        self.wait(1)\n",
    "        self.play(*[FadeOut(t) for t in new_text] + [leaves_vertices[1].animate.set_fill(BLACK)])\n",
    "        self.wait(1)\n",
    "\n",
    "        ann1 = [\"Pseudomonadaceae\", \"Pseudomonas\", \"P. aeruginosa\"]\n",
    "        new_text = [\n",
    "            Text(a, font_size=30).move_to(RIGHT*2 + UP*(3-i)) for i, a in enumerate(ann1)\n",
    "        ]\n",
    "        self.play(*[Write(t) for t in new_text] + [leaves_vertices[3].animate.set_fill(WHITE)])\n",
    "        self.wait(1)\n",
    "        self.play(*[FadeOut(t) for t in new_text] + [leaves_vertices[3].animate.set_fill(BLACK)])\n",
    "        self.wait(1)\n",
    "\n",
    "        ann1 = [\"Sphingomonadaceae\", \"Sphingomonas\", \"???\"]\n",
    "        new_text = [\n",
    "            Text(a, font_size=30).move_to(RIGHT*2 + UP*(3-i)) for i, a in enumerate(ann1)\n",
    "        ]\n",
    "        self.play(*[Write(t) for t in new_text])\n",
    "        self.wait(1)\n",
    "\n",
    "        self.play(\n",
    "            *[FadeOut(mob)for mob in self.mobjects]\n",
    "        )\n",
    "\n",
    "        self.play(FadeIn(graph))\n",
    "        self.wait(1)\n",
    "        \n",
    "        squares = [Square().scale(0.5).move_to(graph[l].get_center()) for l in leaves]\n",
    "        boxes = VGroup(*squares)\n",
    "\n",
    "        self.play(FadeIn(boxes))\n",
    "        self.wait(1)\n",
    "\n",
    "        self.play(boxes.animate.shift(DOWN))\n",
    "\n",
    "        logits = [random.uniform(0, 1) for _ in squares]\n",
    "\n",
    "        cmap = cmasher.get_sub_cmap(sns.dark_palette(\"#9CDCEB\", as_cmap=True), 0, 1)\n",
    "        nn_text = Text(\"Neural network\\noutput layer\", font_size=30).next_to(boxes, LEFT)\n",
    "        logit_text = Text(\"logits\", font_size=30).next_to(boxes, RIGHT)\n",
    "        lik_text = Text(\"likelihoods\", font_size=30).next_to(graph[leaves[0]], RIGHT)\n",
    "        arrow = CurvedArrow(start_point=logit_text.get_right(), end_point=lik_text.get_right()).shift(RIGHT*0.2)\n",
    "        softmax_text = MathTex(r\"\\frac{e^{l_{i}}}{\\sum_{j=1}^K e^{l_{j}}}\", font_size=30).move_to(arrow.get_right()).shift(RIGHT*0.6)\n",
    "\n",
    "        color_anim = [square.animate.set_fill(RED, opacity=logits[i]) for i, square in enumerate(squares)]\n",
    "        text_objs = [Text(f\"{l:.2f}\", font_size=30).move_to(b.get_center()) for l, b in zip(logits, boxes)] # remove later\n",
    "        text_anim = [Write(t) for t in text_objs]\n",
    "        self.play(Write(nn_text))\n",
    "        self.play(*(color_anim + text_anim))\n",
    "        self.wait(1)\n",
    "        self.play(Write(logit_text), Unwrite(nn_text))\n",
    "        self.wait(1)\n",
    "        \n",
    "        likelihoods = softmax(logits)\n",
    "        text_objs_softmax1 = [Text(f\"{l:.2f}\", font_size=15).move_to(graph[b].get_center()) for l, b in zip(likelihoods, leaves)] # remove later\n",
    "        text_anim_softmax = [Write(t) for t in text_objs_softmax1]\n",
    "\n",
    "        color_anim_softmax = [graph[l].animate.set_fill(rgba_to_color(cmap(likelihoods[i]))) for i, l in enumerate(leaves)]\n",
    "        \n",
    "        self.play(*(color_anim_softmax + text_anim_softmax + [Write(softmax_text), Write(arrow), Write(lik_text)]))\n",
    "        self.wait(1)\n",
    "        \n",
    "        self.play(Unwrite(logit_text), Unwrite(softmax_text), Unwrite(lik_text), Unwrite(arrow))\n",
    "        self.wait(1)\n",
    "\n",
    "        def get_middle(i):\n",
    "            return (graph[leaves[i]].get_center() + graph[leaves[i-1]].get_center()) / 2\n",
    "\n",
    "        plus1 = MathTex(r\"+\", font_size=30).move_to(get_middle(4))\n",
    "        plus2 = MathTex(r\"+\", font_size=30).move_to(get_middle(3))\n",
    "        plus3 = MathTex(r\"+\", font_size=30).move_to(get_middle(2))\n",
    "        plus4 = MathTex(r\"+\", font_size=30).move_to(get_middle(1))\n",
    "\n",
    "        equals_1 = MathTex(r\"= 1\", font_size=30).next_to(graph[leaves[0]], RIGHT)\n",
    "\n",
    "        self.play(*[Write(t) for t in [plus1, plus2, plus3, plus4, equals_1]])\n",
    "        self.wait(1)\n",
    "        self.play(*[Unwrite(t) for t in [plus2, plus4, equals_1]])\n",
    "        self.wait(1)\n",
    "\n",
    "        ##### Repeat for parents #####\n",
    "        parents = assign_parents(likelihoods, leaves)\n",
    "        nods, likelihoods_p = zip(*parents.items())\n",
    "        text_objs_pars2 = [Text(f\"{l:.2f}\", font_size=15).move_to(graph[b].get_center()) for l, b in zip(likelihoods_p, nods)] # remove later\n",
    "        text_anim_pars = [Write(t) for t in text_objs_pars2]\n",
    "        \n",
    "        self.play(*([graph[l].animate.set_fill(rgba_to_color(cmap(likelihoods_p[i]))) for i, l in enumerate(nods)] + text_anim_pars + [Unwrite(t) for t in [plus1, plus3]]))\n",
    "\n",
    "        def get_middle_parents(i):\n",
    "            return (graph[nods[i]].get_center() + graph[nods[i-1]].get_center()) / 2\n",
    "        \n",
    "        plusp1 = MathTex(r\"+\", font_size=30).move_to(get_middle_parents(2))\n",
    "        plusp2 = MathTex(r\"+\", font_size=30).move_to(get_middle_parents(1))\n",
    "\n",
    "        equals_1 = MathTex(r\"= 1\", font_size=30).next_to(graph[nods[0]], RIGHT)\n",
    "\n",
    "        self.play(*[Write(t) for t in [plusp1, plusp2, equals_1]])\n",
    "        self.play(*[Unwrite(t) for t in [plusp1, equals_1]])\n",
    "\n",
    "        ##### Repeat for parents #####\n",
    "        parents = assign_parents(likelihoods_p, nods)\n",
    "        nods, likelihoods_p = zip(*parents.items())\n",
    "        text_objs_pars3 = [Text(f\"{l:.2f}\", font_size=15).move_to(graph[b].get_center()) for l, b in zip(likelihoods_p, nods)] # remove later\n",
    "        text_anim_pars = [Write(t) for t in text_objs_pars3]\n",
    "        self.play(*([graph[l].animate.set_fill(rgba_to_color(cmap(likelihoods_p[i]))) for i, l in enumerate(nods)] + text_anim_pars+ [Unwrite(plusp2)]))\n",
    "\n",
    "        plusp1 = MathTex(r\"+\", font_size=30).move_to(get_middle_parents(1))\n",
    "\n",
    "        self.play(*[Write(t) for t in [plusp1]])\n",
    "\n",
    "        ##### Repeat for parents #####\n",
    "        parents = assign_parents(likelihoods_p, nods)\n",
    "        nods, likelihoods_p = zip(*parents.items())\n",
    "        text_objs_pars4 = [Text(f\"1\", font_size=15).move_to(graph[b].get_center()) for l, b in zip(likelihoods_p, nods)] # remove later\n",
    "        text_anim_pars = [Write(t) for t in text_objs_pars4]\n",
    "        self.play(*[graph[l].animate.set_fill(rgba_to_color(cmap(likelihoods_p[i]))) for i, l in enumerate(nods)] + text_anim_pars + [Unwrite(plusp1)])\n",
    "        self.wait(1)\n",
    "\n",
    "        ##### Second graph #####\n",
    "        graph_copy = Graph(\n",
    "            list(G.nodes), \n",
    "            list(G.edges), \n",
    "            layout=\"tree\", \n",
    "            root_vertex=0, \n",
    "            layout_config=LAYOUT_CONFIG,\n",
    "            vertex_config=VERTEX_CONF,\n",
    "        )\n",
    "        for i, l in enumerate(ground_truth):\n",
    "            graph_copy[l].set_fill(WHITE) \n",
    "        SHIFT_CONST = 3\n",
    "        all_texts = text_objs + text_objs_softmax1 + text_objs_pars2 + text_objs_pars3 + text_objs_pars4\n",
    "        self.play(*[FadeOut(x) for x in all_texts])\n",
    "        self.play(\n",
    "            graph_copy.animate.move_to(LEFT*SHIFT_CONST), \n",
    "            graph.animate.move_to(RIGHT*SHIFT_CONST), \n",
    "            boxes.animate.shift(RIGHT*SHIFT_CONST),\n",
    "            FadeOut(boxes),\n",
    "        )\n",
    "        gt_text = Text(\"Ground truth\", font_size=30).next_to(graph_copy, UP)\n",
    "        lh_text = Text(\"Likelihoods\", font_size=30).next_to(graph, UP)\n",
    "        self.play(FadeIn(gt_text), FadeIn(lh_text))\n",
    "        self.wait(1)\n",
    "\n",
    "        probs_eq_str = [\"{{p_\" + f\"{5-i}\"+ \"}}\" for i in range(len(leaves))]\n",
    "        ys_eq_str = [\"{{y_\" + f\"{5-i}\"+ \"}}\" for i in range(len(leaves))]\n",
    "        \n",
    "        probs_eq = [MathTex(*s, font_size=40).next_to(graph[leaves[i]], DOWN) for i, s in enumerate(probs_eq_str)]\n",
    "        ys_eq = [MathTex(*s, font_size=40).next_to(graph_copy[leaves[i]], DOWN) for i, s in enumerate(ys_eq_str)]\n",
    "        \n",
    "        probs = VGroup(*probs_eq)\n",
    "        ys = VGroup(*ys_eq)\n",
    "        self.play(FadeIn(probs), FadeIn(ys))\n",
    "        self.wait(1)\n",
    "\n",
    "        gt_leaf = graph_copy[GT]\n",
    "        surbox = SurroundingRectangle(gt_leaf, color=YELLOW)\n",
    "        gt_leaf2 = graph[GT]\n",
    "        surbox2 = SurroundingRectangle(gt_leaf2, color=YELLOW)\n",
    "        self.play(FadeIn(surbox, surbox2))\n",
    "        self.wait(1)\n",
    "\n",
    "        # equation\n",
    "        eq = [\n",
    "            \"\\L = -\", \"(\", \"{{y_1}}\", \"log(\", \"{{p_1}}\", \") + \",\n",
    "            \"{{y_2}}\", \"log(\", \"{{p_2}}\", \") + \",\n",
    "            \"{{y_3}}\", \"log(\", \"{{p_3}}\", \")\", \" + \",\n",
    "            \"{{y_4}}\", \"log(\", \"{{p_4}}\", \") + \",\n",
    "            \"{{y_5}}\", \"log(\", \"{{p_5}}\", \")\", \")\",\n",
    "        ]\n",
    "        nll = MathTex(*eq, font_size=40).move_to(DOWN*2.8)\n",
    "        self.play(FadeIn(nll))\n",
    "        self.wait(2)\n",
    "\n",
    "        eq = [\n",
    "            \"\\L = -\", \"(\", \"0\\cdot\", \"log(\", \"{{p_1}}\", \") + \",\n",
    "            \"0\\cdot\", \"log(\", \"{{p_2}}\", \") + \",\n",
    "            \"1\\cdot\", \"log(\", \"{{p_3}}\", \")\", \" + \",\n",
    "            \"0\\cdot\", \"log(\", \"{{p_4}}\", \") + \",\n",
    "            \"0\\cdot\", \"log(\", \"{{p_5}}\", \")\", \")\",\n",
    "        ]\n",
    "        nll_coef = MathTex(*eq, font_size=40).move_to(DOWN*2.8)\n",
    "        self.play(TransformMatchingTex(nll, nll_coef))\n",
    "        self.wait(2)\n",
    "\n",
    "        self.play(*[ShrinkToCenter(nll_coef[i]) for i, s in enumerate(eq) if i not in (0,11,12,13)])\n",
    "\n",
    "        nll2 = MathTex(\"\\L = -\", \"log(\", \"{{p_3}}\", \")\",\n",
    "              font_size=40).move_to(DOWN*2.8)\n",
    "        self.play(TransformMatchingShapes(nll_coef, nll2))\n",
    "        self.wait(1)\n",
    "\n",
    "        self.play(FadeOut(surbox, surbox2, nll2))\n",
    "        self.play(graph_copy[GT].animate.set_fill(BLACK))\n",
    "\n",
    "        GT_GENUS = ground_truth[1]\n",
    "        \n",
    "        gt_genus = graph_copy[GT_GENUS]\n",
    "        surbox = SurroundingRectangle(gt_genus, color=YELLOW)\n",
    "        gt_genus2 = graph[GT_GENUS]\n",
    "        surbox2 = SurroundingRectangle(gt_genus2, color=YELLOW)\n",
    "        self.play(FadeIn(surbox, surbox2))\n",
    "\n",
    "        # equation\n",
    "        eq = [\n",
    "            \"\\L = -\", \"(\", \n",
    "            \"{{y_{12}}}\", \"log(\", \"{{p_1 + p_2}}\", \") + \",\n",
    "            \"{{y_{34}}}\", \"log(\", \"{{p_3 + p_4}}\", \")\", \" + \",\n",
    "            \"{{y_5}}\", \"log(\", \"{{p_5}}\", \")\", \n",
    "            \")\",\n",
    "        ]\n",
    "        nll = MathTex(*eq, font_size=40).move_to(DOWN*2.8)\n",
    "        self.play(FadeIn(nll))\n",
    "        self.wait(2)\n",
    "\n",
    "        eq = [\n",
    "            \"\\L = -\", \"(\", \n",
    "            \"0\\cdot\", \"log(\", \"{{p_1 + p_2}}\", \") + \",\n",
    "            \"1\\cdot\", \"log(\", \"{{p_3 + p_4}}\", \")\", \" + \",\n",
    "            \"0\\cdot\", \"log(\", \"{{p_5}}\", \")\", \n",
    "            \")\",\n",
    "        ]\n",
    "        nll_coef = MathTex(*eq, font_size=40).move_to(DOWN*2.8)\n",
    "        self.play(TransformMatchingTex(nll, nll_coef))\n",
    "        self.wait(2)\n",
    "\n",
    "        self.play(*[ShrinkToCenter(nll_coef[i]) for i, s in enumerate(eq) if i not in (0, 7, 8, 9)])\n",
    "\n",
    "        nll2 = MathTex(\"\\L = -\", \"log(\", \"{{p_3 + p_4}}\", \")\",\n",
    "              font_size=40).move_to(DOWN*2.8)\n",
    "        self.play(TransformMatchingShapes(nll_coef, nll2))\n",
    "        self.wait(1)\n",
    "\n",
    "        self.play(FadeOut(surbox, surbox2, nll2))\n",
    "        self.play(graph_copy[GT_GENUS].animate.set_fill(BLACK))\n",
    "\n",
    "        GT_GENUS = ground_truth[2]\n",
    "        gt_genus = graph_copy[GT_GENUS]\n",
    "        surbox = SurroundingRectangle(gt_genus, color=YELLOW)\n",
    "        gt_genus2 = graph[GT_GENUS]\n",
    "        surbox2 = SurroundingRectangle(gt_genus2, color=YELLOW)\n",
    "        self.play(FadeIn(surbox, surbox2))\n",
    "\n",
    "        # equation\n",
    "        eq = [\n",
    "            \"\\L = -\", \"(\", \n",
    "            \"{{y_{12}}}\", \"log(\", \"{{p_1 + p_2}}\", \") + \",\n",
    "            \"{{y_{345}}}\", \"log(\", \"{{p_3 + p_4 + p_5}}\", \")\",\n",
    "            \")\",\n",
    "        ]\n",
    "        nll = MathTex(*eq, font_size=40).move_to(DOWN*2.8)\n",
    "        self.play(FadeIn(nll))\n",
    "        self.wait(2)\n",
    "\n",
    "        eq = [\n",
    "            \"\\L = -\", \"(\", \n",
    "            \"0\\cdot\", \"log(\", \"{{p_1 + p_2}}\", \") + \",\n",
    "            \"1\\cdot\", \"log(\", \"{{p_3 + p_4 + p_5}}\", \")\",\n",
    "            \")\",\n",
    "        ]\n",
    "        nll_coef = MathTex(*eq, font_size=40).move_to(DOWN*2.8)\n",
    "        self.play(TransformMatchingTex(nll, nll_coef))\n",
    "        self.wait(2)\n",
    "\n",
    "        self.play(*[ShrinkToCenter(nll_coef[i]) for i, s in enumerate(eq) if i not in (0, 7, 8, 9)])\n",
    "\n",
    "        nll2 = MathTex(\"\\L = -\", \"log(\", \"{{p_3 + p_4 + p_5}}\", \")\",\n",
    "              font_size=40).move_to(DOWN*2.8)\n",
    "        self.play(TransformMatchingShapes(nll_coef, nll2))\n",
    "        self.wait(1)"
   ]
  },
  {
   "cell_type": "code",
   "execution_count": null,
   "id": "590db6ae-9797-47f8-a0c9-de9c11cce969",
   "metadata": {},
   "outputs": [
    {
     "data": {
      "text/html": [
       "<pre style=\"white-space:pre;overflow-x:auto;line-height:normal;font-family:Menlo,'DejaVu Sans Mono',consolas,'Courier New',monospace\">Manim Community <span style=\"color: #008000; text-decoration-color: #008000\">v0.18.1</span>\n",
       "\n",
       "</pre>\n"
      ],
      "text/plain": [
       "Manim Community \u001b[32mv0.\u001b[0m\u001b[32m18.1\u001b[0m\n",
       "\n"
      ]
     },
     "metadata": {},
     "output_type": "display_data"
    },
    {
     "name": "stderr",
     "output_type": "stream",
     "text": [
      "                                                                                                                                                                                  \r"
     ]
    },
    {
     "data": {
      "text/html": [
       "<pre style=\"white-space:pre;overflow-x:auto;line-height:normal;font-family:Menlo,'DejaVu Sans Mono',consolas,'Courier New',monospace\"><span style=\"color: #7fbfbf; text-decoration-color: #7fbfbf\">[10/04/24 15:58:07] </span><span style=\"color: #008000; text-decoration-color: #008000\">INFO    </span> Animation <span style=\"color: #008000; text-decoration-color: #008000\">0</span> : Partial movie file written in                   <a href=\"file:///Users/nmb127/opt/anaconda3/envs/youtube/lib/python3.9/site-packages/manim/scene/scene_file_writer.py\" target=\"_blank\"><span style=\"color: #7f7f7f; text-decoration-color: #7f7f7f\">scene_file_writer.py</span></a><span style=\"color: #7f7f7f; text-decoration-color: #7f7f7f\">:</span><a href=\"file:///Users/nmb127/opt/anaconda3/envs/youtube/lib/python3.9/site-packages/manim/scene/scene_file_writer.py#527\" target=\"_blank\"><span style=\"color: #7f7f7f; text-decoration-color: #7f7f7f\">527</span></a>\n",
       "<span style=\"color: #7fbfbf; text-decoration-color: #7fbfbf\">                    </span>         <span style=\"color: #008000; text-decoration-color: #008000\">'/Users/nmb127/Documents/</span><span style=\"color: #808000; text-decoration-color: #808000; font-weight: bold\">animations</span><span style=\"color: #008000; text-decoration-color: #008000\">/notebooks/media/videos/no</span> <span style=\"color: #7f7f7f; text-decoration-color: #7f7f7f\">                        </span>\n",
       "<span style=\"color: #7fbfbf; text-decoration-color: #7fbfbf\">                    </span>         <span style=\"color: #008000; text-decoration-color: #008000\">tebooks/1080p60/partial_movie_files/TaxonomicTree/3977891868_</span> <span style=\"color: #7f7f7f; text-decoration-color: #7f7f7f\">                        </span>\n",
       "<span style=\"color: #7fbfbf; text-decoration-color: #7fbfbf\">                    </span>         <span style=\"color: #008000; text-decoration-color: #008000\">2353647012_223132457.mp4'</span>                                     <span style=\"color: #7f7f7f; text-decoration-color: #7f7f7f\">                        </span>\n",
       "</pre>\n"
      ],
      "text/plain": [
       "\u001b[2;36m[10/04/24 15:58:07]\u001b[0m\u001b[2;36m \u001b[0m\u001b[32mINFO    \u001b[0m Animation \u001b[32m0\u001b[0m : Partial movie file written in                   \u001b]8;id=106404;file:///Users/nmb127/opt/anaconda3/envs/youtube/lib/python3.9/site-packages/manim/scene/scene_file_writer.py\u001b\\\u001b[2mscene_file_writer.py\u001b[0m\u001b]8;;\u001b\\\u001b[2m:\u001b[0m\u001b]8;id=490439;file:///Users/nmb127/opt/anaconda3/envs/youtube/lib/python3.9/site-packages/manim/scene/scene_file_writer.py#527\u001b\\\u001b[2m527\u001b[0m\u001b]8;;\u001b\\\n",
       "\u001b[2;36m                    \u001b[0m         \u001b[32m'/Users/nmb127/Documents/\u001b[0m\u001b[1;33manimations\u001b[0m\u001b[32m/notebooks/media/videos/no\u001b[0m \u001b[2m                        \u001b[0m\n",
       "\u001b[2;36m                    \u001b[0m         \u001b[32mtebooks/1080p60/partial_movie_files/TaxonomicTree/3977891868_\u001b[0m \u001b[2m                        \u001b[0m\n",
       "\u001b[2;36m                    \u001b[0m         \u001b[32m2353647012_223132457.mp4'\u001b[0m                                     \u001b[2m                        \u001b[0m\n"
      ]
     },
     "metadata": {},
     "output_type": "display_data"
    },
    {
     "data": {
      "text/html": [
       "<pre style=\"white-space:pre;overflow-x:auto;line-height:normal;font-family:Menlo,'DejaVu Sans Mono',consolas,'Courier New',monospace\"><span style=\"color: #7fbfbf; text-decoration-color: #7fbfbf\">                    </span><span style=\"color: #008000; text-decoration-color: #008000\">INFO    </span> Animation <span style=\"color: #008000; text-decoration-color: #008000\">1</span> : Using cached data <span style=\"font-weight: bold\">(</span>hash :                           <a href=\"file:///Users/nmb127/opt/anaconda3/envs/youtube/lib/python3.9/site-packages/manim/renderer/cairo_renderer.py\" target=\"_blank\"><span style=\"color: #7f7f7f; text-decoration-color: #7f7f7f\">cairo_renderer.py</span></a><span style=\"color: #7f7f7f; text-decoration-color: #7f7f7f\">:</span><a href=\"file:///Users/nmb127/opt/anaconda3/envs/youtube/lib/python3.9/site-packages/manim/renderer/cairo_renderer.py#88\" target=\"_blank\"><span style=\"color: #7f7f7f; text-decoration-color: #7f7f7f\">88</span></a>\n",
       "<span style=\"color: #7fbfbf; text-decoration-color: #7fbfbf\">                    </span>         2852726489_2919340033_1970309359<span style=\"font-weight: bold\">)</span>                                 <span style=\"color: #7f7f7f; text-decoration-color: #7f7f7f\">                    </span>\n",
       "</pre>\n"
      ],
      "text/plain": [
       "\u001b[2;36m                   \u001b[0m\u001b[2;36m \u001b[0m\u001b[32mINFO    \u001b[0m Animation \u001b[32m1\u001b[0m : Using cached data \u001b[1m(\u001b[0mhash :                           \u001b]8;id=844951;file:///Users/nmb127/opt/anaconda3/envs/youtube/lib/python3.9/site-packages/manim/renderer/cairo_renderer.py\u001b\\\u001b[2mcairo_renderer.py\u001b[0m\u001b]8;;\u001b\\\u001b[2m:\u001b[0m\u001b]8;id=740703;file:///Users/nmb127/opt/anaconda3/envs/youtube/lib/python3.9/site-packages/manim/renderer/cairo_renderer.py#88\u001b\\\u001b[2m88\u001b[0m\u001b]8;;\u001b\\\n",
       "\u001b[2;36m                    \u001b[0m         2852726489_2919340033_1970309359\u001b[1m)\u001b[0m                                 \u001b[2m                    \u001b[0m\n"
      ]
     },
     "metadata": {},
     "output_type": "display_data"
    },
    {
     "data": {
      "text/html": [
       "<pre style=\"white-space:pre;overflow-x:auto;line-height:normal;font-family:Menlo,'DejaVu Sans Mono',consolas,'Courier New',monospace\"><span style=\"color: #7fbfbf; text-decoration-color: #7fbfbf\">[10/04/24 15:58:08] </span><span style=\"color: #008000; text-decoration-color: #008000\">INFO    </span> Animation <span style=\"color: #008000; text-decoration-color: #008000\">2</span> : Using cached data <span style=\"font-weight: bold\">(</span>hash :                           <a href=\"file:///Users/nmb127/opt/anaconda3/envs/youtube/lib/python3.9/site-packages/manim/renderer/cairo_renderer.py\" target=\"_blank\"><span style=\"color: #7f7f7f; text-decoration-color: #7f7f7f\">cairo_renderer.py</span></a><span style=\"color: #7f7f7f; text-decoration-color: #7f7f7f\">:</span><a href=\"file:///Users/nmb127/opt/anaconda3/envs/youtube/lib/python3.9/site-packages/manim/renderer/cairo_renderer.py#88\" target=\"_blank\"><span style=\"color: #7f7f7f; text-decoration-color: #7f7f7f\">88</span></a>\n",
       "<span style=\"color: #7fbfbf; text-decoration-color: #7fbfbf\">                    </span>         2852726489_2767851462_3809405495<span style=\"font-weight: bold\">)</span>                                 <span style=\"color: #7f7f7f; text-decoration-color: #7f7f7f\">                    </span>\n",
       "</pre>\n"
      ],
      "text/plain": [
       "\u001b[2;36m[10/04/24 15:58:08]\u001b[0m\u001b[2;36m \u001b[0m\u001b[32mINFO    \u001b[0m Animation \u001b[32m2\u001b[0m : Using cached data \u001b[1m(\u001b[0mhash :                           \u001b]8;id=28561;file:///Users/nmb127/opt/anaconda3/envs/youtube/lib/python3.9/site-packages/manim/renderer/cairo_renderer.py\u001b\\\u001b[2mcairo_renderer.py\u001b[0m\u001b]8;;\u001b\\\u001b[2m:\u001b[0m\u001b]8;id=816289;file:///Users/nmb127/opt/anaconda3/envs/youtube/lib/python3.9/site-packages/manim/renderer/cairo_renderer.py#88\u001b\\\u001b[2m88\u001b[0m\u001b]8;;\u001b\\\n",
       "\u001b[2;36m                    \u001b[0m         2852726489_2767851462_3809405495\u001b[1m)\u001b[0m                                 \u001b[2m                    \u001b[0m\n"
      ]
     },
     "metadata": {},
     "output_type": "display_data"
    },
    {
     "name": "stderr",
     "output_type": "stream",
     "text": [
      "                                                                                                                                                                                  \r"
     ]
    },
    {
     "data": {
      "text/html": [
       "<pre style=\"white-space:pre;overflow-x:auto;line-height:normal;font-family:Menlo,'DejaVu Sans Mono',consolas,'Courier New',monospace\"><span style=\"color: #7fbfbf; text-decoration-color: #7fbfbf\">[10/04/24 15:58:09] </span><span style=\"color: #008000; text-decoration-color: #008000\">INFO    </span> Animation <span style=\"color: #008000; text-decoration-color: #008000\">3</span> : Using cached data <span style=\"font-weight: bold\">(</span>hash :                           <a href=\"file:///Users/nmb127/opt/anaconda3/envs/youtube/lib/python3.9/site-packages/manim/renderer/cairo_renderer.py\" target=\"_blank\"><span style=\"color: #7f7f7f; text-decoration-color: #7f7f7f\">cairo_renderer.py</span></a><span style=\"color: #7f7f7f; text-decoration-color: #7f7f7f\">:</span><a href=\"file:///Users/nmb127/opt/anaconda3/envs/youtube/lib/python3.9/site-packages/manim/renderer/cairo_renderer.py#88\" target=\"_blank\"><span style=\"color: #7f7f7f; text-decoration-color: #7f7f7f\">88</span></a>\n",
       "<span style=\"color: #7fbfbf; text-decoration-color: #7fbfbf\">                    </span>         2852726489_2919340033_246239460<span style=\"font-weight: bold\">)</span>                                  <span style=\"color: #7f7f7f; text-decoration-color: #7f7f7f\">                    </span>\n",
       "</pre>\n"
      ],
      "text/plain": [
       "\u001b[2;36m[10/04/24 15:58:09]\u001b[0m\u001b[2;36m \u001b[0m\u001b[32mINFO    \u001b[0m Animation \u001b[32m3\u001b[0m : Using cached data \u001b[1m(\u001b[0mhash :                           \u001b]8;id=239336;file:///Users/nmb127/opt/anaconda3/envs/youtube/lib/python3.9/site-packages/manim/renderer/cairo_renderer.py\u001b\\\u001b[2mcairo_renderer.py\u001b[0m\u001b]8;;\u001b\\\u001b[2m:\u001b[0m\u001b]8;id=440762;file:///Users/nmb127/opt/anaconda3/envs/youtube/lib/python3.9/site-packages/manim/renderer/cairo_renderer.py#88\u001b\\\u001b[2m88\u001b[0m\u001b]8;;\u001b\\\n",
       "\u001b[2;36m                    \u001b[0m         2852726489_2919340033_246239460\u001b[1m)\u001b[0m                                  \u001b[2m                    \u001b[0m\n"
      ]
     },
     "metadata": {},
     "output_type": "display_data"
    },
    {
     "data": {
      "text/html": [
       "<pre style=\"white-space:pre;overflow-x:auto;line-height:normal;font-family:Menlo,'DejaVu Sans Mono',consolas,'Courier New',monospace\"><span style=\"color: #7fbfbf; text-decoration-color: #7fbfbf\">[10/04/24 15:58:10] </span><span style=\"color: #008000; text-decoration-color: #008000\">INFO    </span> Animation <span style=\"color: #008000; text-decoration-color: #008000\">4</span> : Using cached data <span style=\"font-weight: bold\">(</span>hash :                           <a href=\"file:///Users/nmb127/opt/anaconda3/envs/youtube/lib/python3.9/site-packages/manim/renderer/cairo_renderer.py\" target=\"_blank\"><span style=\"color: #7f7f7f; text-decoration-color: #7f7f7f\">cairo_renderer.py</span></a><span style=\"color: #7f7f7f; text-decoration-color: #7f7f7f\">:</span><a href=\"file:///Users/nmb127/opt/anaconda3/envs/youtube/lib/python3.9/site-packages/manim/renderer/cairo_renderer.py#88\" target=\"_blank\"><span style=\"color: #7f7f7f; text-decoration-color: #7f7f7f\">88</span></a>\n",
       "<span style=\"color: #7fbfbf; text-decoration-color: #7fbfbf\">                    </span>         2852726489_4098436242_1168103147<span style=\"font-weight: bold\">)</span>                                 <span style=\"color: #7f7f7f; text-decoration-color: #7f7f7f\">                    </span>\n",
       "</pre>\n"
      ],
      "text/plain": [
       "\u001b[2;36m[10/04/24 15:58:10]\u001b[0m\u001b[2;36m \u001b[0m\u001b[32mINFO    \u001b[0m Animation \u001b[32m4\u001b[0m : Using cached data \u001b[1m(\u001b[0mhash :                           \u001b]8;id=76735;file:///Users/nmb127/opt/anaconda3/envs/youtube/lib/python3.9/site-packages/manim/renderer/cairo_renderer.py\u001b\\\u001b[2mcairo_renderer.py\u001b[0m\u001b]8;;\u001b\\\u001b[2m:\u001b[0m\u001b]8;id=393345;file:///Users/nmb127/opt/anaconda3/envs/youtube/lib/python3.9/site-packages/manim/renderer/cairo_renderer.py#88\u001b\\\u001b[2m88\u001b[0m\u001b]8;;\u001b\\\n",
       "\u001b[2;36m                    \u001b[0m         2852726489_4098436242_1168103147\u001b[1m)\u001b[0m                                 \u001b[2m                    \u001b[0m\n"
      ]
     },
     "metadata": {},
     "output_type": "display_data"
    },
    {
     "name": "stderr",
     "output_type": "stream",
     "text": [
      "                                                                                                                                                                                  \r"
     ]
    },
    {
     "data": {
      "text/html": [
       "<pre style=\"white-space:pre;overflow-x:auto;line-height:normal;font-family:Menlo,'DejaVu Sans Mono',consolas,'Courier New',monospace\"><span style=\"color: #7fbfbf; text-decoration-color: #7fbfbf\">[10/04/24 15:58:11] </span><span style=\"color: #008000; text-decoration-color: #008000\">INFO    </span> Animation <span style=\"color: #008000; text-decoration-color: #008000\">5</span> : Using cached data <span style=\"font-weight: bold\">(</span>hash :                           <a href=\"file:///Users/nmb127/opt/anaconda3/envs/youtube/lib/python3.9/site-packages/manim/renderer/cairo_renderer.py\" target=\"_blank\"><span style=\"color: #7f7f7f; text-decoration-color: #7f7f7f\">cairo_renderer.py</span></a><span style=\"color: #7f7f7f; text-decoration-color: #7f7f7f\">:</span><a href=\"file:///Users/nmb127/opt/anaconda3/envs/youtube/lib/python3.9/site-packages/manim/renderer/cairo_renderer.py#88\" target=\"_blank\"><span style=\"color: #7f7f7f; text-decoration-color: #7f7f7f\">88</span></a>\n",
       "<span style=\"color: #7fbfbf; text-decoration-color: #7fbfbf\">                    </span>         2852726489_2919340033_439190800<span style=\"font-weight: bold\">)</span>                                  <span style=\"color: #7f7f7f; text-decoration-color: #7f7f7f\">                    </span>\n",
       "</pre>\n"
      ],
      "text/plain": [
       "\u001b[2;36m[10/04/24 15:58:11]\u001b[0m\u001b[2;36m \u001b[0m\u001b[32mINFO    \u001b[0m Animation \u001b[32m5\u001b[0m : Using cached data \u001b[1m(\u001b[0mhash :                           \u001b]8;id=63055;file:///Users/nmb127/opt/anaconda3/envs/youtube/lib/python3.9/site-packages/manim/renderer/cairo_renderer.py\u001b\\\u001b[2mcairo_renderer.py\u001b[0m\u001b]8;;\u001b\\\u001b[2m:\u001b[0m\u001b]8;id=267435;file:///Users/nmb127/opt/anaconda3/envs/youtube/lib/python3.9/site-packages/manim/renderer/cairo_renderer.py#88\u001b\\\u001b[2m88\u001b[0m\u001b]8;;\u001b\\\n",
       "\u001b[2;36m                    \u001b[0m         2852726489_2919340033_439190800\u001b[1m)\u001b[0m                                  \u001b[2m                    \u001b[0m\n"
      ]
     },
     "metadata": {},
     "output_type": "display_data"
    },
    {
     "data": {
      "text/html": [
       "<pre style=\"white-space:pre;overflow-x:auto;line-height:normal;font-family:Menlo,'DejaVu Sans Mono',consolas,'Courier New',monospace\"><span style=\"color: #7fbfbf; text-decoration-color: #7fbfbf\">[10/04/24 15:58:12] </span><span style=\"color: #008000; text-decoration-color: #008000\">INFO    </span> Animation <span style=\"color: #008000; text-decoration-color: #008000\">6</span> : Using cached data <span style=\"font-weight: bold\">(</span>hash :                           <a href=\"file:///Users/nmb127/opt/anaconda3/envs/youtube/lib/python3.9/site-packages/manim/renderer/cairo_renderer.py\" target=\"_blank\"><span style=\"color: #7f7f7f; text-decoration-color: #7f7f7f\">cairo_renderer.py</span></a><span style=\"color: #7f7f7f; text-decoration-color: #7f7f7f\">:</span><a href=\"file:///Users/nmb127/opt/anaconda3/envs/youtube/lib/python3.9/site-packages/manim/renderer/cairo_renderer.py#88\" target=\"_blank\"><span style=\"color: #7f7f7f; text-decoration-color: #7f7f7f\">88</span></a>\n",
       "<span style=\"color: #7fbfbf; text-decoration-color: #7fbfbf\">                    </span>         2852726489_1623360644_1530339483<span style=\"font-weight: bold\">)</span>                                 <span style=\"color: #7f7f7f; text-decoration-color: #7f7f7f\">                    </span>\n",
       "</pre>\n"
      ],
      "text/plain": [
       "\u001b[2;36m[10/04/24 15:58:12]\u001b[0m\u001b[2;36m \u001b[0m\u001b[32mINFO    \u001b[0m Animation \u001b[32m6\u001b[0m : Using cached data \u001b[1m(\u001b[0mhash :                           \u001b]8;id=873870;file:///Users/nmb127/opt/anaconda3/envs/youtube/lib/python3.9/site-packages/manim/renderer/cairo_renderer.py\u001b\\\u001b[2mcairo_renderer.py\u001b[0m\u001b]8;;\u001b\\\u001b[2m:\u001b[0m\u001b]8;id=424495;file:///Users/nmb127/opt/anaconda3/envs/youtube/lib/python3.9/site-packages/manim/renderer/cairo_renderer.py#88\u001b\\\u001b[2m88\u001b[0m\u001b]8;;\u001b\\\n",
       "\u001b[2;36m                    \u001b[0m         2852726489_1623360644_1530339483\u001b[1m)\u001b[0m                                 \u001b[2m                    \u001b[0m\n"
      ]
     },
     "metadata": {},
     "output_type": "display_data"
    },
    {
     "name": "stderr",
     "output_type": "stream",
     "text": [
      "                                                                                                                                                                                  \r"
     ]
    },
    {
     "data": {
      "text/html": [
       "<pre style=\"white-space:pre;overflow-x:auto;line-height:normal;font-family:Menlo,'DejaVu Sans Mono',consolas,'Courier New',monospace\"><span style=\"color: #7fbfbf; text-decoration-color: #7fbfbf\">[10/04/24 15:58:13] </span><span style=\"color: #008000; text-decoration-color: #008000\">INFO    </span> Animation <span style=\"color: #008000; text-decoration-color: #008000\">7</span> : Using cached data <span style=\"font-weight: bold\">(</span>hash :                           <a href=\"file:///Users/nmb127/opt/anaconda3/envs/youtube/lib/python3.9/site-packages/manim/renderer/cairo_renderer.py\" target=\"_blank\"><span style=\"color: #7f7f7f; text-decoration-color: #7f7f7f\">cairo_renderer.py</span></a><span style=\"color: #7f7f7f; text-decoration-color: #7f7f7f\">:</span><a href=\"file:///Users/nmb127/opt/anaconda3/envs/youtube/lib/python3.9/site-packages/manim/renderer/cairo_renderer.py#88\" target=\"_blank\"><span style=\"color: #7f7f7f; text-decoration-color: #7f7f7f\">88</span></a>\n",
       "<span style=\"color: #7fbfbf; text-decoration-color: #7fbfbf\">                    </span>         2852726489_2919340033_1613000991<span style=\"font-weight: bold\">)</span>                                 <span style=\"color: #7f7f7f; text-decoration-color: #7f7f7f\">                    </span>\n",
       "</pre>\n"
      ],
      "text/plain": [
       "\u001b[2;36m[10/04/24 15:58:13]\u001b[0m\u001b[2;36m \u001b[0m\u001b[32mINFO    \u001b[0m Animation \u001b[32m7\u001b[0m : Using cached data \u001b[1m(\u001b[0mhash :                           \u001b]8;id=992028;file:///Users/nmb127/opt/anaconda3/envs/youtube/lib/python3.9/site-packages/manim/renderer/cairo_renderer.py\u001b\\\u001b[2mcairo_renderer.py\u001b[0m\u001b]8;;\u001b\\\u001b[2m:\u001b[0m\u001b]8;id=912734;file:///Users/nmb127/opt/anaconda3/envs/youtube/lib/python3.9/site-packages/manim/renderer/cairo_renderer.py#88\u001b\\\u001b[2m88\u001b[0m\u001b]8;;\u001b\\\n",
       "\u001b[2;36m                    \u001b[0m         2852726489_2919340033_1613000991\u001b[1m)\u001b[0m                                 \u001b[2m                    \u001b[0m\n"
      ]
     },
     "metadata": {},
     "output_type": "display_data"
    },
    {
     "data": {
      "text/html": [
       "<pre style=\"white-space:pre;overflow-x:auto;line-height:normal;font-family:Menlo,'DejaVu Sans Mono',consolas,'Courier New',monospace\"><span style=\"color: #7fbfbf; text-decoration-color: #7fbfbf\">                    </span><span style=\"color: #008000; text-decoration-color: #008000\">INFO    </span> Animation <span style=\"color: #008000; text-decoration-color: #008000\">8</span> : Using cached data <span style=\"font-weight: bold\">(</span>hash :                           <a href=\"file:///Users/nmb127/opt/anaconda3/envs/youtube/lib/python3.9/site-packages/manim/renderer/cairo_renderer.py\" target=\"_blank\"><span style=\"color: #7f7f7f; text-decoration-color: #7f7f7f\">cairo_renderer.py</span></a><span style=\"color: #7f7f7f; text-decoration-color: #7f7f7f\">:</span><a href=\"file:///Users/nmb127/opt/anaconda3/envs/youtube/lib/python3.9/site-packages/manim/renderer/cairo_renderer.py#88\" target=\"_blank\"><span style=\"color: #7f7f7f; text-decoration-color: #7f7f7f\">88</span></a>\n",
       "<span style=\"color: #7fbfbf; text-decoration-color: #7fbfbf\">                    </span>         2852726489_3199501082_1146641923<span style=\"font-weight: bold\">)</span>                                 <span style=\"color: #7f7f7f; text-decoration-color: #7f7f7f\">                    </span>\n",
       "</pre>\n"
      ],
      "text/plain": [
       "\u001b[2;36m                   \u001b[0m\u001b[2;36m \u001b[0m\u001b[32mINFO    \u001b[0m Animation \u001b[32m8\u001b[0m : Using cached data \u001b[1m(\u001b[0mhash :                           \u001b]8;id=771683;file:///Users/nmb127/opt/anaconda3/envs/youtube/lib/python3.9/site-packages/manim/renderer/cairo_renderer.py\u001b\\\u001b[2mcairo_renderer.py\u001b[0m\u001b]8;;\u001b\\\u001b[2m:\u001b[0m\u001b]8;id=587486;file:///Users/nmb127/opt/anaconda3/envs/youtube/lib/python3.9/site-packages/manim/renderer/cairo_renderer.py#88\u001b\\\u001b[2m88\u001b[0m\u001b]8;;\u001b\\\n",
       "\u001b[2;36m                    \u001b[0m         2852726489_3199501082_1146641923\u001b[1m)\u001b[0m                                 \u001b[2m                    \u001b[0m\n"
      ]
     },
     "metadata": {},
     "output_type": "display_data"
    },
    {
     "name": "stderr",
     "output_type": "stream",
     "text": [
      "                                                                                                                                                                                  \r"
     ]
    },
    {
     "data": {
      "text/html": [
       "<pre style=\"white-space:pre;overflow-x:auto;line-height:normal;font-family:Menlo,'DejaVu Sans Mono',consolas,'Courier New',monospace\"><span style=\"color: #7fbfbf; text-decoration-color: #7fbfbf\">[10/04/24 15:58:14] </span><span style=\"color: #008000; text-decoration-color: #008000\">INFO    </span> Animation <span style=\"color: #008000; text-decoration-color: #008000\">9</span> : Using cached data <span style=\"font-weight: bold\">(</span>hash :                           <a href=\"file:///Users/nmb127/opt/anaconda3/envs/youtube/lib/python3.9/site-packages/manim/renderer/cairo_renderer.py\" target=\"_blank\"><span style=\"color: #7f7f7f; text-decoration-color: #7f7f7f\">cairo_renderer.py</span></a><span style=\"color: #7f7f7f; text-decoration-color: #7f7f7f\">:</span><a href=\"file:///Users/nmb127/opt/anaconda3/envs/youtube/lib/python3.9/site-packages/manim/renderer/cairo_renderer.py#88\" target=\"_blank\"><span style=\"color: #7f7f7f; text-decoration-color: #7f7f7f\">88</span></a>\n",
       "<span style=\"color: #7fbfbf; text-decoration-color: #7fbfbf\">                    </span>         2852726489_2919340033_3733636604<span style=\"font-weight: bold\">)</span>                                 <span style=\"color: #7f7f7f; text-decoration-color: #7f7f7f\">                    </span>\n",
       "</pre>\n"
      ],
      "text/plain": [
       "\u001b[2;36m[10/04/24 15:58:14]\u001b[0m\u001b[2;36m \u001b[0m\u001b[32mINFO    \u001b[0m Animation \u001b[32m9\u001b[0m : Using cached data \u001b[1m(\u001b[0mhash :                           \u001b]8;id=833074;file:///Users/nmb127/opt/anaconda3/envs/youtube/lib/python3.9/site-packages/manim/renderer/cairo_renderer.py\u001b\\\u001b[2mcairo_renderer.py\u001b[0m\u001b]8;;\u001b\\\u001b[2m:\u001b[0m\u001b]8;id=84241;file:///Users/nmb127/opt/anaconda3/envs/youtube/lib/python3.9/site-packages/manim/renderer/cairo_renderer.py#88\u001b\\\u001b[2m88\u001b[0m\u001b]8;;\u001b\\\n",
       "\u001b[2;36m                    \u001b[0m         2852726489_2919340033_3733636604\u001b[1m)\u001b[0m                                 \u001b[2m                    \u001b[0m\n"
      ]
     },
     "metadata": {},
     "output_type": "display_data"
    },
    {
     "data": {
      "text/html": [
       "<pre style=\"white-space:pre;overflow-x:auto;line-height:normal;font-family:Menlo,'DejaVu Sans Mono',consolas,'Courier New',monospace\"><span style=\"color: #7fbfbf; text-decoration-color: #7fbfbf\">                    </span><span style=\"color: #008000; text-decoration-color: #008000\">INFO    </span> Animation <span style=\"color: #008000; text-decoration-color: #008000\">10</span> : Using cached data <span style=\"font-weight: bold\">(</span>hash :                          <a href=\"file:///Users/nmb127/opt/anaconda3/envs/youtube/lib/python3.9/site-packages/manim/renderer/cairo_renderer.py\" target=\"_blank\"><span style=\"color: #7f7f7f; text-decoration-color: #7f7f7f\">cairo_renderer.py</span></a><span style=\"color: #7f7f7f; text-decoration-color: #7f7f7f\">:</span><a href=\"file:///Users/nmb127/opt/anaconda3/envs/youtube/lib/python3.9/site-packages/manim/renderer/cairo_renderer.py#88\" target=\"_blank\"><span style=\"color: #7f7f7f; text-decoration-color: #7f7f7f\">88</span></a>\n",
       "<span style=\"color: #7fbfbf; text-decoration-color: #7fbfbf\">                    </span>         2852726489_2731660813_1840476855<span style=\"font-weight: bold\">)</span>                                 <span style=\"color: #7f7f7f; text-decoration-color: #7f7f7f\">                    </span>\n",
       "</pre>\n"
      ],
      "text/plain": [
       "\u001b[2;36m                   \u001b[0m\u001b[2;36m \u001b[0m\u001b[32mINFO    \u001b[0m Animation \u001b[32m10\u001b[0m : Using cached data \u001b[1m(\u001b[0mhash :                          \u001b]8;id=685383;file:///Users/nmb127/opt/anaconda3/envs/youtube/lib/python3.9/site-packages/manim/renderer/cairo_renderer.py\u001b\\\u001b[2mcairo_renderer.py\u001b[0m\u001b]8;;\u001b\\\u001b[2m:\u001b[0m\u001b]8;id=667880;file:///Users/nmb127/opt/anaconda3/envs/youtube/lib/python3.9/site-packages/manim/renderer/cairo_renderer.py#88\u001b\\\u001b[2m88\u001b[0m\u001b]8;;\u001b\\\n",
       "\u001b[2;36m                    \u001b[0m         2852726489_2731660813_1840476855\u001b[1m)\u001b[0m                                 \u001b[2m                    \u001b[0m\n"
      ]
     },
     "metadata": {},
     "output_type": "display_data"
    },
    {
     "name": "stderr",
     "output_type": "stream",
     "text": [
      "                                                                                                                                                                                  \r"
     ]
    },
    {
     "data": {
      "text/html": [
       "<pre style=\"white-space:pre;overflow-x:auto;line-height:normal;font-family:Menlo,'DejaVu Sans Mono',consolas,'Courier New',monospace\"><span style=\"color: #7fbfbf; text-decoration-color: #7fbfbf\">[10/04/24 15:58:16] </span><span style=\"color: #008000; text-decoration-color: #008000\">INFO    </span> Animation <span style=\"color: #008000; text-decoration-color: #008000\">11</span> : Partial movie file written in                  <a href=\"file:///Users/nmb127/opt/anaconda3/envs/youtube/lib/python3.9/site-packages/manim/scene/scene_file_writer.py\" target=\"_blank\"><span style=\"color: #7f7f7f; text-decoration-color: #7f7f7f\">scene_file_writer.py</span></a><span style=\"color: #7f7f7f; text-decoration-color: #7f7f7f\">:</span><a href=\"file:///Users/nmb127/opt/anaconda3/envs/youtube/lib/python3.9/site-packages/manim/scene/scene_file_writer.py#527\" target=\"_blank\"><span style=\"color: #7f7f7f; text-decoration-color: #7f7f7f\">527</span></a>\n",
       "<span style=\"color: #7fbfbf; text-decoration-color: #7fbfbf\">                    </span>         <span style=\"color: #008000; text-decoration-color: #008000\">'/Users/nmb127/Documents/</span><span style=\"color: #808000; text-decoration-color: #808000; font-weight: bold\">animations</span><span style=\"color: #008000; text-decoration-color: #008000\">/notebooks/media/videos/no</span> <span style=\"color: #7f7f7f; text-decoration-color: #7f7f7f\">                        </span>\n",
       "<span style=\"color: #7fbfbf; text-decoration-color: #7fbfbf\">                    </span>         <span style=\"color: #008000; text-decoration-color: #008000\">tebooks/1080p60/partial_movie_files/TaxonomicTree/2852726489_</span> <span style=\"color: #7f7f7f; text-decoration-color: #7f7f7f\">                        </span>\n",
       "<span style=\"color: #7fbfbf; text-decoration-color: #7fbfbf\">                    </span>         <span style=\"color: #008000; text-decoration-color: #008000\">2268332985_3146739431.mp4'</span>                                    <span style=\"color: #7f7f7f; text-decoration-color: #7f7f7f\">                        </span>\n",
       "</pre>\n"
      ],
      "text/plain": [
       "\u001b[2;36m[10/04/24 15:58:16]\u001b[0m\u001b[2;36m \u001b[0m\u001b[32mINFO    \u001b[0m Animation \u001b[32m11\u001b[0m : Partial movie file written in                  \u001b]8;id=690937;file:///Users/nmb127/opt/anaconda3/envs/youtube/lib/python3.9/site-packages/manim/scene/scene_file_writer.py\u001b\\\u001b[2mscene_file_writer.py\u001b[0m\u001b]8;;\u001b\\\u001b[2m:\u001b[0m\u001b]8;id=448871;file:///Users/nmb127/opt/anaconda3/envs/youtube/lib/python3.9/site-packages/manim/scene/scene_file_writer.py#527\u001b\\\u001b[2m527\u001b[0m\u001b]8;;\u001b\\\n",
       "\u001b[2;36m                    \u001b[0m         \u001b[32m'/Users/nmb127/Documents/\u001b[0m\u001b[1;33manimations\u001b[0m\u001b[32m/notebooks/media/videos/no\u001b[0m \u001b[2m                        \u001b[0m\n",
       "\u001b[2;36m                    \u001b[0m         \u001b[32mtebooks/1080p60/partial_movie_files/TaxonomicTree/2852726489_\u001b[0m \u001b[2m                        \u001b[0m\n",
       "\u001b[2;36m                    \u001b[0m         \u001b[32m2268332985_3146739431.mp4'\u001b[0m                                    \u001b[2m                        \u001b[0m\n"
      ]
     },
     "metadata": {},
     "output_type": "display_data"
    },
    {
     "name": "stderr",
     "output_type": "stream",
     "text": [
      "                                                                                                                                                                                  \r"
     ]
    },
    {
     "data": {
      "text/html": [
       "<pre style=\"white-space:pre;overflow-x:auto;line-height:normal;font-family:Menlo,'DejaVu Sans Mono',consolas,'Courier New',monospace\"><span style=\"color: #7fbfbf; text-decoration-color: #7fbfbf\">[10/04/24 15:58:19] </span><span style=\"color: #008000; text-decoration-color: #008000\">INFO    </span> Animation <span style=\"color: #008000; text-decoration-color: #008000\">12</span> : Partial movie file written in                  <a href=\"file:///Users/nmb127/opt/anaconda3/envs/youtube/lib/python3.9/site-packages/manim/scene/scene_file_writer.py\" target=\"_blank\"><span style=\"color: #7f7f7f; text-decoration-color: #7f7f7f\">scene_file_writer.py</span></a><span style=\"color: #7f7f7f; text-decoration-color: #7f7f7f\">:</span><a href=\"file:///Users/nmb127/opt/anaconda3/envs/youtube/lib/python3.9/site-packages/manim/scene/scene_file_writer.py#527\" target=\"_blank\"><span style=\"color: #7f7f7f; text-decoration-color: #7f7f7f\">527</span></a>\n",
       "<span style=\"color: #7fbfbf; text-decoration-color: #7fbfbf\">                    </span>         <span style=\"color: #008000; text-decoration-color: #008000\">'/Users/nmb127/Documents/</span><span style=\"color: #808000; text-decoration-color: #808000; font-weight: bold\">animations</span><span style=\"color: #008000; text-decoration-color: #008000\">/notebooks/media/videos/no</span> <span style=\"color: #7f7f7f; text-decoration-color: #7f7f7f\">                        </span>\n",
       "<span style=\"color: #7fbfbf; text-decoration-color: #7fbfbf\">                    </span>         <span style=\"color: #008000; text-decoration-color: #008000\">tebooks/1080p60/partial_movie_files/TaxonomicTree/2852726489_</span> <span style=\"color: #7f7f7f; text-decoration-color: #7f7f7f\">                        </span>\n",
       "<span style=\"color: #7fbfbf; text-decoration-color: #7fbfbf\">                    </span>         <span style=\"color: #008000; text-decoration-color: #008000\">3998005014_1408943756.mp4'</span>                                    <span style=\"color: #7f7f7f; text-decoration-color: #7f7f7f\">                        </span>\n",
       "</pre>\n"
      ],
      "text/plain": [
       "\u001b[2;36m[10/04/24 15:58:19]\u001b[0m\u001b[2;36m \u001b[0m\u001b[32mINFO    \u001b[0m Animation \u001b[32m12\u001b[0m : Partial movie file written in                  \u001b]8;id=615212;file:///Users/nmb127/opt/anaconda3/envs/youtube/lib/python3.9/site-packages/manim/scene/scene_file_writer.py\u001b\\\u001b[2mscene_file_writer.py\u001b[0m\u001b]8;;\u001b\\\u001b[2m:\u001b[0m\u001b]8;id=987312;file:///Users/nmb127/opt/anaconda3/envs/youtube/lib/python3.9/site-packages/manim/scene/scene_file_writer.py#527\u001b\\\u001b[2m527\u001b[0m\u001b]8;;\u001b\\\n",
       "\u001b[2;36m                    \u001b[0m         \u001b[32m'/Users/nmb127/Documents/\u001b[0m\u001b[1;33manimations\u001b[0m\u001b[32m/notebooks/media/videos/no\u001b[0m \u001b[2m                        \u001b[0m\n",
       "\u001b[2;36m                    \u001b[0m         \u001b[32mtebooks/1080p60/partial_movie_files/TaxonomicTree/2852726489_\u001b[0m \u001b[2m                        \u001b[0m\n",
       "\u001b[2;36m                    \u001b[0m         \u001b[32m3998005014_1408943756.mp4'\u001b[0m                                    \u001b[2m                        \u001b[0m\n"
      ]
     },
     "metadata": {},
     "output_type": "display_data"
    },
    {
     "name": "stderr",
     "output_type": "stream",
     "text": [
      "                                                                                                                                                                                  \r"
     ]
    },
    {
     "data": {
      "text/html": [
       "<pre style=\"white-space:pre;overflow-x:auto;line-height:normal;font-family:Menlo,'DejaVu Sans Mono',consolas,'Courier New',monospace\"><span style=\"color: #7fbfbf; text-decoration-color: #7fbfbf\">[10/04/24 15:58:21] </span><span style=\"color: #008000; text-decoration-color: #008000\">INFO    </span> Animation <span style=\"color: #008000; text-decoration-color: #008000\">13</span> : Partial movie file written in                  <a href=\"file:///Users/nmb127/opt/anaconda3/envs/youtube/lib/python3.9/site-packages/manim/scene/scene_file_writer.py\" target=\"_blank\"><span style=\"color: #7f7f7f; text-decoration-color: #7f7f7f\">scene_file_writer.py</span></a><span style=\"color: #7f7f7f; text-decoration-color: #7f7f7f\">:</span><a href=\"file:///Users/nmb127/opt/anaconda3/envs/youtube/lib/python3.9/site-packages/manim/scene/scene_file_writer.py#527\" target=\"_blank\"><span style=\"color: #7f7f7f; text-decoration-color: #7f7f7f\">527</span></a>\n",
       "<span style=\"color: #7fbfbf; text-decoration-color: #7fbfbf\">                    </span>         <span style=\"color: #008000; text-decoration-color: #008000\">'/Users/nmb127/Documents/</span><span style=\"color: #808000; text-decoration-color: #808000; font-weight: bold\">animations</span><span style=\"color: #008000; text-decoration-color: #008000\">/notebooks/media/videos/no</span> <span style=\"color: #7f7f7f; text-decoration-color: #7f7f7f\">                        </span>\n",
       "<span style=\"color: #7fbfbf; text-decoration-color: #7fbfbf\">                    </span>         <span style=\"color: #008000; text-decoration-color: #008000\">tebooks/1080p60/partial_movie_files/TaxonomicTree/2852726489_</span> <span style=\"color: #7f7f7f; text-decoration-color: #7f7f7f\">                        </span>\n",
       "<span style=\"color: #7fbfbf; text-decoration-color: #7fbfbf\">                    </span>         <span style=\"color: #008000; text-decoration-color: #008000\">324998872_223132457.mp4'</span>                                      <span style=\"color: #7f7f7f; text-decoration-color: #7f7f7f\">                        </span>\n",
       "</pre>\n"
      ],
      "text/plain": [
       "\u001b[2;36m[10/04/24 15:58:21]\u001b[0m\u001b[2;36m \u001b[0m\u001b[32mINFO    \u001b[0m Animation \u001b[32m13\u001b[0m : Partial movie file written in                  \u001b]8;id=943119;file:///Users/nmb127/opt/anaconda3/envs/youtube/lib/python3.9/site-packages/manim/scene/scene_file_writer.py\u001b\\\u001b[2mscene_file_writer.py\u001b[0m\u001b]8;;\u001b\\\u001b[2m:\u001b[0m\u001b]8;id=908024;file:///Users/nmb127/opt/anaconda3/envs/youtube/lib/python3.9/site-packages/manim/scene/scene_file_writer.py#527\u001b\\\u001b[2m527\u001b[0m\u001b]8;;\u001b\\\n",
       "\u001b[2;36m                    \u001b[0m         \u001b[32m'/Users/nmb127/Documents/\u001b[0m\u001b[1;33manimations\u001b[0m\u001b[32m/notebooks/media/videos/no\u001b[0m \u001b[2m                        \u001b[0m\n",
       "\u001b[2;36m                    \u001b[0m         \u001b[32mtebooks/1080p60/partial_movie_files/TaxonomicTree/2852726489_\u001b[0m \u001b[2m                        \u001b[0m\n",
       "\u001b[2;36m                    \u001b[0m         \u001b[32m324998872_223132457.mp4'\u001b[0m                                      \u001b[2m                        \u001b[0m\n"
      ]
     },
     "metadata": {},
     "output_type": "display_data"
    },
    {
     "data": {
      "text/html": [
       "<pre style=\"white-space:pre;overflow-x:auto;line-height:normal;font-family:Menlo,'DejaVu Sans Mono',consolas,'Courier New',monospace\"><span style=\"color: #7fbfbf; text-decoration-color: #7fbfbf\">                    </span><span style=\"color: #008000; text-decoration-color: #008000\">INFO    </span> Animation <span style=\"color: #008000; text-decoration-color: #008000\">14</span> : Using cached data <span style=\"font-weight: bold\">(</span>hash :                          <a href=\"file:///Users/nmb127/opt/anaconda3/envs/youtube/lib/python3.9/site-packages/manim/renderer/cairo_renderer.py\" target=\"_blank\"><span style=\"color: #7f7f7f; text-decoration-color: #7f7f7f\">cairo_renderer.py</span></a><span style=\"color: #7f7f7f; text-decoration-color: #7f7f7f\">:</span><a href=\"file:///Users/nmb127/opt/anaconda3/envs/youtube/lib/python3.9/site-packages/manim/renderer/cairo_renderer.py#88\" target=\"_blank\"><span style=\"color: #7f7f7f; text-decoration-color: #7f7f7f\">88</span></a>\n",
       "<span style=\"color: #7fbfbf; text-decoration-color: #7fbfbf\">                    </span>         2852726489_2919340033_1992872043<span style=\"font-weight: bold\">)</span>                                 <span style=\"color: #7f7f7f; text-decoration-color: #7f7f7f\">                    </span>\n",
       "</pre>\n"
      ],
      "text/plain": [
       "\u001b[2;36m                   \u001b[0m\u001b[2;36m \u001b[0m\u001b[32mINFO    \u001b[0m Animation \u001b[32m14\u001b[0m : Using cached data \u001b[1m(\u001b[0mhash :                          \u001b]8;id=186614;file:///Users/nmb127/opt/anaconda3/envs/youtube/lib/python3.9/site-packages/manim/renderer/cairo_renderer.py\u001b\\\u001b[2mcairo_renderer.py\u001b[0m\u001b]8;;\u001b\\\u001b[2m:\u001b[0m\u001b]8;id=692898;file:///Users/nmb127/opt/anaconda3/envs/youtube/lib/python3.9/site-packages/manim/renderer/cairo_renderer.py#88\u001b\\\u001b[2m88\u001b[0m\u001b]8;;\u001b\\\n",
       "\u001b[2;36m                    \u001b[0m         2852726489_2919340033_1992872043\u001b[1m)\u001b[0m                                 \u001b[2m                    \u001b[0m\n"
      ]
     },
     "metadata": {},
     "output_type": "display_data"
    },
    {
     "data": {
      "text/html": [
       "<pre style=\"white-space:pre;overflow-x:auto;line-height:normal;font-family:Menlo,'DejaVu Sans Mono',consolas,'Courier New',monospace\"><span style=\"color: #7fbfbf; text-decoration-color: #7fbfbf\">                    </span><span style=\"color: #008000; text-decoration-color: #008000\">INFO    </span> Animation <span style=\"color: #008000; text-decoration-color: #008000\">15</span> : Using cached data <span style=\"font-weight: bold\">(</span>hash :                          <a href=\"file:///Users/nmb127/opt/anaconda3/envs/youtube/lib/python3.9/site-packages/manim/renderer/cairo_renderer.py\" target=\"_blank\"><span style=\"color: #7f7f7f; text-decoration-color: #7f7f7f\">cairo_renderer.py</span></a><span style=\"color: #7f7f7f; text-decoration-color: #7f7f7f\">:</span><a href=\"file:///Users/nmb127/opt/anaconda3/envs/youtube/lib/python3.9/site-packages/manim/renderer/cairo_renderer.py#88\" target=\"_blank\"><span style=\"color: #7f7f7f; text-decoration-color: #7f7f7f\">88</span></a>\n",
       "<span style=\"color: #7fbfbf; text-decoration-color: #7fbfbf\">                    </span>         2852726489_2897491724_659368359<span style=\"font-weight: bold\">)</span>                                  <span style=\"color: #7f7f7f; text-decoration-color: #7f7f7f\">                    </span>\n",
       "</pre>\n"
      ],
      "text/plain": [
       "\u001b[2;36m                   \u001b[0m\u001b[2;36m \u001b[0m\u001b[32mINFO    \u001b[0m Animation \u001b[32m15\u001b[0m : Using cached data \u001b[1m(\u001b[0mhash :                          \u001b]8;id=150082;file:///Users/nmb127/opt/anaconda3/envs/youtube/lib/python3.9/site-packages/manim/renderer/cairo_renderer.py\u001b\\\u001b[2mcairo_renderer.py\u001b[0m\u001b]8;;\u001b\\\u001b[2m:\u001b[0m\u001b]8;id=417491;file:///Users/nmb127/opt/anaconda3/envs/youtube/lib/python3.9/site-packages/manim/renderer/cairo_renderer.py#88\u001b\\\u001b[2m88\u001b[0m\u001b]8;;\u001b\\\n",
       "\u001b[2;36m                    \u001b[0m         2852726489_2897491724_659368359\u001b[1m)\u001b[0m                                  \u001b[2m                    \u001b[0m\n"
      ]
     },
     "metadata": {},
     "output_type": "display_data"
    },
    {
     "name": "stderr",
     "output_type": "stream",
     "text": [
      "                                                                                                                                                                                  \r"
     ]
    },
    {
     "data": {
      "text/html": [
       "<pre style=\"white-space:pre;overflow-x:auto;line-height:normal;font-family:Menlo,'DejaVu Sans Mono',consolas,'Courier New',monospace\"><span style=\"color: #7fbfbf; text-decoration-color: #7fbfbf\">                    </span><span style=\"color: #008000; text-decoration-color: #008000\">INFO    </span> Animation <span style=\"color: #008000; text-decoration-color: #008000\">16</span> : Using cached data <span style=\"font-weight: bold\">(</span>hash :                          <a href=\"file:///Users/nmb127/opt/anaconda3/envs/youtube/lib/python3.9/site-packages/manim/renderer/cairo_renderer.py\" target=\"_blank\"><span style=\"color: #7f7f7f; text-decoration-color: #7f7f7f\">cairo_renderer.py</span></a><span style=\"color: #7f7f7f; text-decoration-color: #7f7f7f\">:</span><a href=\"file:///Users/nmb127/opt/anaconda3/envs/youtube/lib/python3.9/site-packages/manim/renderer/cairo_renderer.py#88\" target=\"_blank\"><span style=\"color: #7f7f7f; text-decoration-color: #7f7f7f\">88</span></a>\n",
       "<span style=\"color: #7fbfbf; text-decoration-color: #7fbfbf\">                    </span>         2852726489_2919340033_2561357929<span style=\"font-weight: bold\">)</span>                                 <span style=\"color: #7f7f7f; text-decoration-color: #7f7f7f\">                    </span>\n",
       "</pre>\n"
      ],
      "text/plain": [
       "\u001b[2;36m                   \u001b[0m\u001b[2;36m \u001b[0m\u001b[32mINFO    \u001b[0m Animation \u001b[32m16\u001b[0m : Using cached data \u001b[1m(\u001b[0mhash :                          \u001b]8;id=405783;file:///Users/nmb127/opt/anaconda3/envs/youtube/lib/python3.9/site-packages/manim/renderer/cairo_renderer.py\u001b\\\u001b[2mcairo_renderer.py\u001b[0m\u001b]8;;\u001b\\\u001b[2m:\u001b[0m\u001b]8;id=531113;file:///Users/nmb127/opt/anaconda3/envs/youtube/lib/python3.9/site-packages/manim/renderer/cairo_renderer.py#88\u001b\\\u001b[2m88\u001b[0m\u001b]8;;\u001b\\\n",
       "\u001b[2;36m                    \u001b[0m         2852726489_2919340033_2561357929\u001b[1m)\u001b[0m                                 \u001b[2m                    \u001b[0m\n"
      ]
     },
     "metadata": {},
     "output_type": "display_data"
    },
    {
     "name": "stderr",
     "output_type": "stream",
     "text": [
      "                                                                                                                                                                                  \r"
     ]
    },
    {
     "data": {
      "text/html": [
       "<pre style=\"white-space:pre;overflow-x:auto;line-height:normal;font-family:Menlo,'DejaVu Sans Mono',consolas,'Courier New',monospace\"><span style=\"color: #7fbfbf; text-decoration-color: #7fbfbf\">[10/04/24 15:58:22] </span><span style=\"color: #008000; text-decoration-color: #008000\">INFO    </span> Animation <span style=\"color: #008000; text-decoration-color: #008000\">17</span> : Partial movie file written in                  <a href=\"file:///Users/nmb127/opt/anaconda3/envs/youtube/lib/python3.9/site-packages/manim/scene/scene_file_writer.py\" target=\"_blank\"><span style=\"color: #7f7f7f; text-decoration-color: #7f7f7f\">scene_file_writer.py</span></a><span style=\"color: #7f7f7f; text-decoration-color: #7f7f7f\">:</span><a href=\"file:///Users/nmb127/opt/anaconda3/envs/youtube/lib/python3.9/site-packages/manim/scene/scene_file_writer.py#527\" target=\"_blank\"><span style=\"color: #7f7f7f; text-decoration-color: #7f7f7f\">527</span></a>\n",
       "<span style=\"color: #7fbfbf; text-decoration-color: #7fbfbf\">                    </span>         <span style=\"color: #008000; text-decoration-color: #008000\">'/Users/nmb127/Documents/</span><span style=\"color: #808000; text-decoration-color: #808000; font-weight: bold\">animations</span><span style=\"color: #008000; text-decoration-color: #008000\">/notebooks/media/videos/no</span> <span style=\"color: #7f7f7f; text-decoration-color: #7f7f7f\">                        </span>\n",
       "<span style=\"color: #7fbfbf; text-decoration-color: #7fbfbf\">                    </span>         <span style=\"color: #008000; text-decoration-color: #008000\">tebooks/1080p60/partial_movie_files/TaxonomicTree/2852726489_</span> <span style=\"color: #7f7f7f; text-decoration-color: #7f7f7f\">                        </span>\n",
       "<span style=\"color: #7fbfbf; text-decoration-color: #7fbfbf\">                    </span>         <span style=\"color: #008000; text-decoration-color: #008000\">238943339_3204283817.mp4'</span>                                     <span style=\"color: #7f7f7f; text-decoration-color: #7f7f7f\">                        </span>\n",
       "</pre>\n"
      ],
      "text/plain": [
       "\u001b[2;36m[10/04/24 15:58:22]\u001b[0m\u001b[2;36m \u001b[0m\u001b[32mINFO    \u001b[0m Animation \u001b[32m17\u001b[0m : Partial movie file written in                  \u001b]8;id=20357;file:///Users/nmb127/opt/anaconda3/envs/youtube/lib/python3.9/site-packages/manim/scene/scene_file_writer.py\u001b\\\u001b[2mscene_file_writer.py\u001b[0m\u001b]8;;\u001b\\\u001b[2m:\u001b[0m\u001b]8;id=576989;file:///Users/nmb127/opt/anaconda3/envs/youtube/lib/python3.9/site-packages/manim/scene/scene_file_writer.py#527\u001b\\\u001b[2m527\u001b[0m\u001b]8;;\u001b\\\n",
       "\u001b[2;36m                    \u001b[0m         \u001b[32m'/Users/nmb127/Documents/\u001b[0m\u001b[1;33manimations\u001b[0m\u001b[32m/notebooks/media/videos/no\u001b[0m \u001b[2m                        \u001b[0m\n",
       "\u001b[2;36m                    \u001b[0m         \u001b[32mtebooks/1080p60/partial_movie_files/TaxonomicTree/2852726489_\u001b[0m \u001b[2m                        \u001b[0m\n",
       "\u001b[2;36m                    \u001b[0m         \u001b[32m238943339_3204283817.mp4'\u001b[0m                                     \u001b[2m                        \u001b[0m\n"
      ]
     },
     "metadata": {},
     "output_type": "display_data"
    },
    {
     "name": "stderr",
     "output_type": "stream",
     "text": [
      "                                                                                                                                                                                  \r"
     ]
    },
    {
     "data": {
      "text/html": [
       "<pre style=\"white-space:pre;overflow-x:auto;line-height:normal;font-family:Menlo,'DejaVu Sans Mono',consolas,'Courier New',monospace\"><span style=\"color: #7fbfbf; text-decoration-color: #7fbfbf\">[10/04/24 15:58:24] </span><span style=\"color: #008000; text-decoration-color: #008000\">INFO    </span> Animation <span style=\"color: #008000; text-decoration-color: #008000\">18</span> : Partial movie file written in                  <a href=\"file:///Users/nmb127/opt/anaconda3/envs/youtube/lib/python3.9/site-packages/manim/scene/scene_file_writer.py\" target=\"_blank\"><span style=\"color: #7f7f7f; text-decoration-color: #7f7f7f\">scene_file_writer.py</span></a><span style=\"color: #7f7f7f; text-decoration-color: #7f7f7f\">:</span><a href=\"file:///Users/nmb127/opt/anaconda3/envs/youtube/lib/python3.9/site-packages/manim/scene/scene_file_writer.py#527\" target=\"_blank\"><span style=\"color: #7f7f7f; text-decoration-color: #7f7f7f\">527</span></a>\n",
       "<span style=\"color: #7fbfbf; text-decoration-color: #7fbfbf\">                    </span>         <span style=\"color: #008000; text-decoration-color: #008000\">'/Users/nmb127/Documents/</span><span style=\"color: #808000; text-decoration-color: #808000; font-weight: bold\">animations</span><span style=\"color: #008000; text-decoration-color: #008000\">/notebooks/media/videos/no</span> <span style=\"color: #7f7f7f; text-decoration-color: #7f7f7f\">                        </span>\n",
       "<span style=\"color: #7fbfbf; text-decoration-color: #7fbfbf\">                    </span>         <span style=\"color: #008000; text-decoration-color: #008000\">tebooks/1080p60/partial_movie_files/TaxonomicTree/2852726489_</span> <span style=\"color: #7f7f7f; text-decoration-color: #7f7f7f\">                        </span>\n",
       "<span style=\"color: #7fbfbf; text-decoration-color: #7fbfbf\">                    </span>         <span style=\"color: #008000; text-decoration-color: #008000\">2554262629_3171061848.mp4'</span>                                    <span style=\"color: #7f7f7f; text-decoration-color: #7f7f7f\">                        </span>\n",
       "</pre>\n"
      ],
      "text/plain": [
       "\u001b[2;36m[10/04/24 15:58:24]\u001b[0m\u001b[2;36m \u001b[0m\u001b[32mINFO    \u001b[0m Animation \u001b[32m18\u001b[0m : Partial movie file written in                  \u001b]8;id=804700;file:///Users/nmb127/opt/anaconda3/envs/youtube/lib/python3.9/site-packages/manim/scene/scene_file_writer.py\u001b\\\u001b[2mscene_file_writer.py\u001b[0m\u001b]8;;\u001b\\\u001b[2m:\u001b[0m\u001b]8;id=131618;file:///Users/nmb127/opt/anaconda3/envs/youtube/lib/python3.9/site-packages/manim/scene/scene_file_writer.py#527\u001b\\\u001b[2m527\u001b[0m\u001b]8;;\u001b\\\n",
       "\u001b[2;36m                    \u001b[0m         \u001b[32m'/Users/nmb127/Documents/\u001b[0m\u001b[1;33manimations\u001b[0m\u001b[32m/notebooks/media/videos/no\u001b[0m \u001b[2m                        \u001b[0m\n",
       "\u001b[2;36m                    \u001b[0m         \u001b[32mtebooks/1080p60/partial_movie_files/TaxonomicTree/2852726489_\u001b[0m \u001b[2m                        \u001b[0m\n",
       "\u001b[2;36m                    \u001b[0m         \u001b[32m2554262629_3171061848.mp4'\u001b[0m                                    \u001b[2m                        \u001b[0m\n"
      ]
     },
     "metadata": {},
     "output_type": "display_data"
    },
    {
     "name": "stderr",
     "output_type": "stream",
     "text": [
      "                                                                                                                                                                                  \r"
     ]
    },
    {
     "data": {
      "text/html": [
       "<pre style=\"white-space:pre;overflow-x:auto;line-height:normal;font-family:Menlo,'DejaVu Sans Mono',consolas,'Courier New',monospace\"><span style=\"color: #7fbfbf; text-decoration-color: #7fbfbf\">[10/04/24 15:58:26] </span><span style=\"color: #008000; text-decoration-color: #008000\">INFO    </span> Animation <span style=\"color: #008000; text-decoration-color: #008000\">19</span> : Partial movie file written in                  <a href=\"file:///Users/nmb127/opt/anaconda3/envs/youtube/lib/python3.9/site-packages/manim/scene/scene_file_writer.py\" target=\"_blank\"><span style=\"color: #7f7f7f; text-decoration-color: #7f7f7f\">scene_file_writer.py</span></a><span style=\"color: #7f7f7f; text-decoration-color: #7f7f7f\">:</span><a href=\"file:///Users/nmb127/opt/anaconda3/envs/youtube/lib/python3.9/site-packages/manim/scene/scene_file_writer.py#527\" target=\"_blank\"><span style=\"color: #7f7f7f; text-decoration-color: #7f7f7f\">527</span></a>\n",
       "<span style=\"color: #7fbfbf; text-decoration-color: #7fbfbf\">                    </span>         <span style=\"color: #008000; text-decoration-color: #008000\">'/Users/nmb127/Documents/</span><span style=\"color: #808000; text-decoration-color: #808000; font-weight: bold\">animations</span><span style=\"color: #008000; text-decoration-color: #008000\">/notebooks/media/videos/no</span> <span style=\"color: #7f7f7f; text-decoration-color: #7f7f7f\">                        </span>\n",
       "<span style=\"color: #7fbfbf; text-decoration-color: #7fbfbf\">                    </span>         <span style=\"color: #008000; text-decoration-color: #008000\">tebooks/1080p60/partial_movie_files/TaxonomicTree/2852726489_</span> <span style=\"color: #7f7f7f; text-decoration-color: #7f7f7f\">                        </span>\n",
       "<span style=\"color: #7fbfbf; text-decoration-color: #7fbfbf\">                    </span>         <span style=\"color: #008000; text-decoration-color: #008000\">1817316513_2536016086.mp4'</span>                                    <span style=\"color: #7f7f7f; text-decoration-color: #7f7f7f\">                        </span>\n",
       "</pre>\n"
      ],
      "text/plain": [
       "\u001b[2;36m[10/04/24 15:58:26]\u001b[0m\u001b[2;36m \u001b[0m\u001b[32mINFO    \u001b[0m Animation \u001b[32m19\u001b[0m : Partial movie file written in                  \u001b]8;id=324768;file:///Users/nmb127/opt/anaconda3/envs/youtube/lib/python3.9/site-packages/manim/scene/scene_file_writer.py\u001b\\\u001b[2mscene_file_writer.py\u001b[0m\u001b]8;;\u001b\\\u001b[2m:\u001b[0m\u001b]8;id=872072;file:///Users/nmb127/opt/anaconda3/envs/youtube/lib/python3.9/site-packages/manim/scene/scene_file_writer.py#527\u001b\\\u001b[2m527\u001b[0m\u001b]8;;\u001b\\\n",
       "\u001b[2;36m                    \u001b[0m         \u001b[32m'/Users/nmb127/Documents/\u001b[0m\u001b[1;33manimations\u001b[0m\u001b[32m/notebooks/media/videos/no\u001b[0m \u001b[2m                        \u001b[0m\n",
       "\u001b[2;36m                    \u001b[0m         \u001b[32mtebooks/1080p60/partial_movie_files/TaxonomicTree/2852726489_\u001b[0m \u001b[2m                        \u001b[0m\n",
       "\u001b[2;36m                    \u001b[0m         \u001b[32m1817316513_2536016086.mp4'\u001b[0m                                    \u001b[2m                        \u001b[0m\n"
      ]
     },
     "metadata": {},
     "output_type": "display_data"
    },
    {
     "data": {
      "text/html": [
       "<pre style=\"white-space:pre;overflow-x:auto;line-height:normal;font-family:Menlo,'DejaVu Sans Mono',consolas,'Courier New',monospace\"><span style=\"color: #7fbfbf; text-decoration-color: #7fbfbf\">[10/04/24 15:58:27] </span><span style=\"color: #008000; text-decoration-color: #008000\">INFO    </span> Animation <span style=\"color: #008000; text-decoration-color: #008000\">20</span> : Partial movie file written in                  <a href=\"file:///Users/nmb127/opt/anaconda3/envs/youtube/lib/python3.9/site-packages/manim/scene/scene_file_writer.py\" target=\"_blank\"><span style=\"color: #7f7f7f; text-decoration-color: #7f7f7f\">scene_file_writer.py</span></a><span style=\"color: #7f7f7f; text-decoration-color: #7f7f7f\">:</span><a href=\"file:///Users/nmb127/opt/anaconda3/envs/youtube/lib/python3.9/site-packages/manim/scene/scene_file_writer.py#527\" target=\"_blank\"><span style=\"color: #7f7f7f; text-decoration-color: #7f7f7f\">527</span></a>\n",
       "<span style=\"color: #7fbfbf; text-decoration-color: #7fbfbf\">                    </span>         <span style=\"color: #008000; text-decoration-color: #008000\">'/Users/nmb127/Documents/</span><span style=\"color: #808000; text-decoration-color: #808000; font-weight: bold\">animations</span><span style=\"color: #008000; text-decoration-color: #008000\">/notebooks/media/videos/no</span> <span style=\"color: #7f7f7f; text-decoration-color: #7f7f7f\">                        </span>\n",
       "<span style=\"color: #7fbfbf; text-decoration-color: #7fbfbf\">                    </span>         <span style=\"color: #008000; text-decoration-color: #008000\">tebooks/1080p60/partial_movie_files/TaxonomicTree/2852726489_</span> <span style=\"color: #7f7f7f; text-decoration-color: #7f7f7f\">                        </span>\n",
       "<span style=\"color: #7fbfbf; text-decoration-color: #7fbfbf\">                    </span>         <span style=\"color: #008000; text-decoration-color: #008000\">2919340033_3278312716.mp4'</span>                                    <span style=\"color: #7f7f7f; text-decoration-color: #7f7f7f\">                        </span>\n",
       "</pre>\n"
      ],
      "text/plain": [
       "\u001b[2;36m[10/04/24 15:58:27]\u001b[0m\u001b[2;36m \u001b[0m\u001b[32mINFO    \u001b[0m Animation \u001b[32m20\u001b[0m : Partial movie file written in                  \u001b]8;id=423566;file:///Users/nmb127/opt/anaconda3/envs/youtube/lib/python3.9/site-packages/manim/scene/scene_file_writer.py\u001b\\\u001b[2mscene_file_writer.py\u001b[0m\u001b]8;;\u001b\\\u001b[2m:\u001b[0m\u001b]8;id=531674;file:///Users/nmb127/opt/anaconda3/envs/youtube/lib/python3.9/site-packages/manim/scene/scene_file_writer.py#527\u001b\\\u001b[2m527\u001b[0m\u001b]8;;\u001b\\\n",
       "\u001b[2;36m                    \u001b[0m         \u001b[32m'/Users/nmb127/Documents/\u001b[0m\u001b[1;33manimations\u001b[0m\u001b[32m/notebooks/media/videos/no\u001b[0m \u001b[2m                        \u001b[0m\n",
       "\u001b[2;36m                    \u001b[0m         \u001b[32mtebooks/1080p60/partial_movie_files/TaxonomicTree/2852726489_\u001b[0m \u001b[2m                        \u001b[0m\n",
       "\u001b[2;36m                    \u001b[0m         \u001b[32m2919340033_3278312716.mp4'\u001b[0m                                    \u001b[2m                        \u001b[0m\n"
      ]
     },
     "metadata": {},
     "output_type": "display_data"
    },
    {
     "name": "stderr",
     "output_type": "stream",
     "text": [
      "Animation 21: Write(Text('logits')), etc.:  72%|█████████████████████████████████████████████████████████████████████▌                           | 86/120 [00:01<00:00, 53.05it/s]"
     ]
    }
   ],
   "source": [
    "%manim TaxonomicTree"
   ]
  },
  {
   "cell_type": "code",
   "execution_count": null,
   "id": "38374a1b-7f83-48f4-9e9f-46ee4958f702",
   "metadata": {},
   "outputs": [],
   "source": []
  }
 ],
 "metadata": {
  "kernelspec": {
   "display_name": "Python 3 (ipykernel)",
   "language": "python",
   "name": "python3"
  },
  "language_info": {
   "codemirror_mode": {
    "name": "ipython",
    "version": 3
   },
   "file_extension": ".py",
   "mimetype": "text/x-python",
   "name": "python",
   "nbconvert_exporter": "python",
   "pygments_lexer": "ipython3",
   "version": "3.9.19"
  }
 },
 "nbformat": 4,
 "nbformat_minor": 5
}
